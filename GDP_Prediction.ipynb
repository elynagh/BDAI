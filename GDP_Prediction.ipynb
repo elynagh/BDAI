{
 "cells": [
  {
   "cell_type": "code",
   "execution_count": 1,
   "metadata": {},
   "outputs": [],
   "source": [
    "# Import pandas and xgboost\n",
    "import pandas as pd\n",
    "from xgboost import XGBRegressor"
   ]
  },
  {
   "cell_type": "code",
   "execution_count": 3,
   "metadata": {},
   "outputs": [
    {
     "name": "stdout",
     "output_type": "stream",
     "text": [
      "        Date  gdp  Jobless  U of mich consumer sentiment  Last Price  (R1)  \\\n",
      "0    6/30/18  4.2      232                          99.0             79.44   \n",
      "1    3/31/18  2.2      242                         100.1             70.27   \n",
      "2   12/31/17  2.3      248                          98.2             66.87   \n",
      "3    9/30/17  2.8      254                         101.4             57.54   \n",
      "4    6/30/17  3.0      251                          95.9             47.92   \n",
      "5    3/31/17  1.8      241                          95.1             52.83   \n",
      "6   12/31/16  1.8      238                          95.1             56.82   \n",
      "7    9/30/16  1.9      245                          96.9             49.06   \n",
      "8    6/30/16  2.3      265                          98.2             49.68   \n",
      "9    3/31/16  1.5      274                          91.2             39.60   \n",
      "10  12/31/15  0.4      277                          93.5             37.28   \n",
      "11   9/30/15  1.0      271                          91.0             48.37   \n",
      "12   6/30/15  3.3      277                          92.6             63.59   \n",
      "13   3/31/15  3.3      269                          87.2             55.11   \n",
      "14  12/31/14  1.9      286                          96.1             57.33   \n",
      "15   9/30/14  4.9      289                          93.0             94.67   \n",
      "16   6/30/14  5.1      310                          93.6            112.36   \n",
      "17   3/31/14 -1.0      332                          84.6            107.76   \n",
      "18  12/31/13  3.2      332                          82.5            110.80   \n",
      "19   9/30/13  3.2      319                          80.0            108.37   \n",
      "20   6/30/13  0.5      340                          82.5            102.16   \n",
      "21   3/31/13  3.6      375                          77.5            110.02   \n",
      "22  12/31/12  0.5      362                          84.1            111.11   \n",
      "23   9/30/12  0.5      376                          78.6            112.39   \n",
      "24   6/30/12  1.7      372                          72.9             97.80   \n",
      "25   3/31/12  3.2      358                          78.3            122.88   \n",
      "26  12/31/11  4.7      376                          73.2            107.38   \n",
      "27   9/30/11 -0.1      405                          76.2            102.76   \n",
      "28   6/30/11  2.9      421                          69.9            112.48   \n",
      "29   3/31/11 -1.0      399                          59.5            117.36   \n",
      "..       ...  ...      ...                           ...               ...   \n",
      "61   3/31/03  2.2      436                          87.7             27.18   \n",
      "62  12/31/02  0.6      409                          89.7             28.66   \n",
      "63   9/30/02  1.8      409                          77.6             28.75   \n",
      "64   6/30/02  2.4      386                          86.7             25.58   \n",
      "65   3/31/02  3.5      479                          86.1             25.92   \n",
      "66  12/31/01  1.1      421                          92.4             19.90   \n",
      "67   9/30/01 -1.7      517                          95.7             23.26   \n",
      "68   6/30/01  2.4      394                          88.8             26.08   \n",
      "69   3/31/01 -1.1      388                          81.8             24.74   \n",
      "70  12/31/00  2.5      353                          92.6             23.87   \n",
      "71   9/30/00  0.5      292                          91.5             29.84   \n",
      "72   6/30/00  7.5      281                          98.4             30.57   \n",
      "73   3/31/00  1.5      266                         106.8             24.77   \n",
      "74  12/31/99  7.0      286                         106.4             25.08   \n",
      "75   9/30/99  5.3      306                         107.1             23.58   \n",
      "76   6/30/99  3.1      291                         105.4             17.51   \n",
      "77   3/31/99  3.8      298                         107.2             15.24   \n",
      "78  12/31/98  6.6      336                         107.3             10.53   \n",
      "79   9/30/98  5.1      294                         105.7             14.68   \n",
      "80   6/30/98  3.8      376                         100.5             13.38   \n",
      "81   3/31/98  4.1      312                         100.9             14.26   \n",
      "82  12/31/97  3.5      303                         105.6             16.52   \n",
      "83   9/30/97  5.1      317                         106.5             19.90   \n",
      "84   6/30/97  6.8      322                         102.1             18.51   \n",
      "85   3/31/97  2.6      325                         106.0             19.38   \n",
      "86  12/31/96  4.2      357                         104.5             23.81   \n",
      "87   9/30/96  3.6      348                         100.0             23.21   \n",
      "88   6/30/96  6.8      337                          96.9             18.91   \n",
      "89   3/31/96  3.0      393                          94.7             19.41   \n",
      "90  12/31/95  2.7      359                          92.4             18.33   \n",
      "\n",
      "    RSI 30 Day  (L1)  RSI 14 Day  (L1)      RSI  Moving Average  \n",
      "0              52.40             54.26  54.2610         42.1719  \n",
      "1              50.65             50.48  50.4824         41.0306  \n",
      "2              49.99             49.03  49.0327         40.9813  \n",
      "3              48.15             44.92  44.9241         41.5779  \n",
      "4              46.18             40.32  40.3178         42.3516  \n",
      "5              47.06             41.98  41.9819         43.5499  \n",
      "6              47.78             43.33  43.3315         44.5738  \n",
      "7              46.24             39.84  39.8389         45.3608  \n",
      "8              46.34             40.02  40.0219         46.6142  \n",
      "9              44.34             35.55  35.5527         47.8841  \n",
      "10             43.88             34.51  34.5098         49.5062  \n",
      "11             45.64             37.18  37.1805         50.9283  \n",
      "12             48.21             41.25  41.2486         52.8291  \n",
      "13             46.59             37.72  37.7233         54.1557  \n",
      "14             46.96             38.28  38.2817         55.6442  \n",
      "15             53.97             49.79  49.7933         57.3653  \n",
      "16             57.92             57.38  57.3844         58.4037  \n",
      "17             57.13             55.76  55.7557         58.5031  \n",
      "18             57.82             57.09  57.0948         58.4645  \n",
      "19             57.42             56.32  56.3161         58.1721  \n",
      "20             56.40             54.35  54.3499         58.1276  \n",
      "21             58.11             57.39  57.3855         58.1282  \n",
      "22             58.34             57.80  57.8012         57.7332  \n",
      "23             58.61             58.26  58.2614         57.3134  \n",
      "24             56.39             54.42  54.4202         56.4482  \n",
      "25             61.92             63.79  63.7910         55.7780  \n",
      "26             59.55             59.82  59.8206         55.6706  \n",
      "27             58.81             58.56  58.5630         57.5925  \n",
      "28             61.08             62.38  62.3772         59.1032  \n",
      "29             62.25             64.33  64.3304         60.2153  \n",
      "..               ...               ...      ...             ...  \n",
      "61             54.71             56.63  56.6289         57.8773  \n",
      "62             55.73             59.17  59.1676         58.0583  \n",
      "63             55.79             59.32  59.3177         57.4985  \n",
      "64             54.07             55.64  55.6353         56.6799  \n",
      "65             54.29             56.14  56.1414         55.5306  \n",
      "66             50.89             48.43  48.4282         54.7688  \n",
      "67             53.02             53.28  53.2850         54.3803  \n",
      "68             54.88             57.80  57.8027         53.7356  \n",
      "69             54.14             56.16  56.1627         53.0075  \n",
      "70             53.67             55.11  55.1110         52.7962  \n",
      "71             57.65             65.06  65.0565         52.5030  \n",
      "72             58.16             66.42  66.4175         51.6016  \n",
      "73             55.11             60.29  60.2886         51.1763  \n",
      "74             55.32             60.84  60.8396         51.1334  \n",
      "75             54.51             59.16  59.1625         50.6185  \n",
      "76             51.07             51.33  51.3300         50.2865  \n",
      "77             49.69             47.86  47.8571         50.4029  \n",
      "78             46.68             39.55  39.5458         50.5339  \n",
      "79             49.19             45.48  45.4764         51.2856  \n",
      "80             48.35             42.99  42.9895         51.7267  \n",
      "81             48.87             44.26  44.2584         52.2526  \n",
      "82             50.24             47.61  47.6096         52.7471  \n",
      "83             52.35             53.20  53.2044         53.0344  \n",
      "84             51.54             51.01  51.0058         52.5627  \n",
      "85             52.08             52.44  52.4376         52.2437  \n",
      "86             54.88             60.46  60.4631         52.1470  \n",
      "87             54.56             59.69  59.6872         51.4834  \n",
      "88             52.21             53.63  53.6311         50.9793  \n",
      "89             52.51             54.52  54.5154         50.8681  \n",
      "90             51.93             52.96  52.9597         50.8353  \n",
      "\n",
      "[91 rows x 9 columns]\n"
     ]
    }
   ],
   "source": [
    "# Import GDP data CSV\n",
    "data = pd.read_csv(\"gdp.csv\")\n",
    "print(data)"
   ]
  },
  {
   "cell_type": "code",
   "execution_count": 9,
   "metadata": {},
   "outputs": [
    {
     "name": "stdout",
     "output_type": "stream",
     "text": [
      "    Jobless  U of mich consumer sentiment      RSI  Moving Average\n",
      "0       232                          99.0  54.2610         42.1719\n",
      "1       242                         100.1  50.4824         41.0306\n",
      "2       248                          98.2  49.0327         40.9813\n",
      "3       254                         101.4  44.9241         41.5779\n",
      "4       251                          95.9  40.3178         42.3516\n",
      "5       241                          95.1  41.9819         43.5499\n",
      "6       238                          95.1  43.3315         44.5738\n",
      "7       245                          96.9  39.8389         45.3608\n",
      "8       265                          98.2  40.0219         46.6142\n",
      "9       274                          91.2  35.5527         47.8841\n",
      "10      277                          93.5  34.5098         49.5062\n",
      "11      271                          91.0  37.1805         50.9283\n",
      "12      277                          92.6  41.2486         52.8291\n",
      "13      269                          87.2  37.7233         54.1557\n",
      "14      286                          96.1  38.2817         55.6442\n",
      "15      289                          93.0  49.7933         57.3653\n",
      "16      310                          93.6  57.3844         58.4037\n",
      "17      332                          84.6  55.7557         58.5031\n",
      "18      332                          82.5  57.0948         58.4645\n",
      "19      319                          80.0  56.3161         58.1721\n",
      "20      340                          82.5  54.3499         58.1276\n",
      "21      375                          77.5  57.3855         58.1282\n",
      "22      362                          84.1  57.8012         57.7332\n",
      "23      376                          78.6  58.2614         57.3134\n",
      "24      372                          72.9  54.4202         56.4482\n",
      "25      358                          78.3  63.7910         55.7780\n",
      "26      376                          73.2  59.8206         55.6706\n",
      "27      405                          76.2  58.5630         57.5925\n",
      "28      421                          69.9  62.3772         59.1032\n",
      "29      399                          59.5  64.3304         60.2153\n",
      "..      ...                           ...      ...             ...\n",
      "61      436                          87.7  56.6289         57.8773\n",
      "62      409                          89.7  59.1676         58.0583\n",
      "63      409                          77.6  59.3177         57.4985\n",
      "64      386                          86.7  55.6353         56.6799\n",
      "65      479                          86.1  56.1414         55.5306\n",
      "66      421                          92.4  48.4282         54.7688\n",
      "67      517                          95.7  53.2850         54.3803\n",
      "68      394                          88.8  57.8027         53.7356\n",
      "69      388                          81.8  56.1627         53.0075\n",
      "70      353                          92.6  55.1110         52.7962\n",
      "71      292                          91.5  65.0565         52.5030\n",
      "72      281                          98.4  66.4175         51.6016\n",
      "73      266                         106.8  60.2886         51.1763\n",
      "74      286                         106.4  60.8396         51.1334\n",
      "75      306                         107.1  59.1625         50.6185\n",
      "76      291                         105.4  51.3300         50.2865\n",
      "77      298                         107.2  47.8571         50.4029\n",
      "78      336                         107.3  39.5458         50.5339\n",
      "79      294                         105.7  45.4764         51.2856\n",
      "80      376                         100.5  42.9895         51.7267\n",
      "81      312                         100.9  44.2584         52.2526\n",
      "82      303                         105.6  47.6096         52.7471\n",
      "83      317                         106.5  53.2044         53.0344\n",
      "84      322                         102.1  51.0058         52.5627\n",
      "85      325                         106.0  52.4376         52.2437\n",
      "86      357                         104.5  60.4631         52.1470\n",
      "87      348                         100.0  59.6872         51.4834\n",
      "88      337                          96.9  53.6311         50.9793\n",
      "89      393                          94.7  54.5154         50.8681\n",
      "90      359                          92.4  52.9597         50.8353\n",
      "\n",
      "[91 rows x 4 columns]\n",
      "0     4.2\n",
      "1     2.2\n",
      "2     2.3\n",
      "3     2.8\n",
      "4     3.0\n",
      "5     1.8\n",
      "6     1.8\n",
      "7     1.9\n",
      "8     2.3\n",
      "9     1.5\n",
      "10    0.4\n",
      "11    1.0\n",
      "12    3.3\n",
      "13    3.3\n",
      "14    1.9\n",
      "15    4.9\n",
      "16    5.1\n",
      "17   -1.0\n",
      "18    3.2\n",
      "19    3.2\n",
      "20    0.5\n",
      "21    3.6\n",
      "22    0.5\n",
      "23    0.5\n",
      "24    1.7\n",
      "25    3.2\n",
      "26    4.7\n",
      "27   -0.1\n",
      "28    2.9\n",
      "29   -1.0\n",
      "     ... \n",
      "61    2.2\n",
      "62    0.6\n",
      "63    1.8\n",
      "64    2.4\n",
      "65    3.5\n",
      "66    1.1\n",
      "67   -1.7\n",
      "68    2.4\n",
      "69   -1.1\n",
      "70    2.5\n",
      "71    0.5\n",
      "72    7.5\n",
      "73    1.5\n",
      "74    7.0\n",
      "75    5.3\n",
      "76    3.1\n",
      "77    3.8\n",
      "78    6.6\n",
      "79    5.1\n",
      "80    3.8\n",
      "81    4.1\n",
      "82    3.5\n",
      "83    5.1\n",
      "84    6.8\n",
      "85    2.6\n",
      "86    4.2\n",
      "87    3.6\n",
      "88    6.8\n",
      "89    3.0\n",
      "90    2.7\n",
      "Name: gdp, Length: 91, dtype: float64\n"
     ]
    }
   ],
   "source": [
    "# Set up y as GDP, and X as the features to fit to (Initial Jobless Claims, UofMich Consumer Sentiment, and Brent Oil RSI and Moving Average.)\n",
    "y = data[\"gdp\"]\n",
    "X = data.drop([\"gdp\", \"Date\", \"Last Price  (R1)\", \"RSI 30 Day  (L1)\", \"RSI 14 Day  (L1)\"], axis=1)\n",
    "print(X)\n",
    "print(y)"
   ]
  },
  {
   "cell_type": "code",
   "execution_count": 10,
   "metadata": {},
   "outputs": [],
   "source": [
    "# Create and fit model using XGB regression\n",
    "model = XGBRegressor()\n",
    "model.fit(X, y)\n",
    "predictions = model.predict(X)"
   ]
  },
  {
   "cell_type": "code",
   "execution_count": 11,
   "metadata": {},
   "outputs": [
    {
     "name": "stdout",
     "output_type": "stream",
     "text": [
      "[ 3.7392027   2.7515697   2.3105547   2.6609545   2.6609545   1.9454312\n",
      "  1.9454312   2.2354083   2.32099     1.3371227   0.93270504  1.3817\n",
      "  2.718224    2.7468839   2.6444576   4.122818    4.385527    0.49390042\n",
      "  2.4315138   2.8000546   0.58227044  3.3888712   1.1441786   1.6371088\n",
      "  2.2490473   2.9302819   3.2618527   0.93683755  2.3903117  -0.22520012\n",
      "  1.7378479   2.48764     3.5814302   2.0519972   3.6187112   1.5684903\n",
      " -0.5619261  -4.323552   -8.004201   -2.0495389   1.6431091  -1.3880271\n",
      "  2.3509686   2.236276    2.3264444   0.96274287  2.9270935   1.3927388\n",
      "  0.948438    4.8402123   2.7054589   2.916967    2.679634    3.5889444\n",
      "  3.8171134   3.8566387   3.5466251   3.207637    4.443386    5.612357\n",
      "  3.3058794   2.2498589   0.9302906   1.476801    2.485177    3.3707747\n",
      "  1.3874865  -1.2900838   1.8050448  -0.41723734  3.245238    0.8721335\n",
      "  6.798295    2.4861088   6.0708985   5.3810143   3.750569    3.78925\n",
      "  6.0144725   4.323953    4.2323174   4.2755985   4.141724    4.861612\n",
      "  4.7863107   3.7066844   4.3826566   4.395694    5.7846174   3.012848\n",
      "  2.3420665 ]\n"
     ]
    }
   ],
   "source": [
    "print(predictions)"
   ]
  },
  {
   "cell_type": "code",
   "execution_count": 7,
   "metadata": {},
   "outputs": [],
   "source": [
    "# Import test metrics from sklearn\n",
    "from sklearn.metrics import mean_absolute_error\n",
    "from sklearn.metrics import mean_squared_error"
   ]
  },
  {
   "cell_type": "code",
   "execution_count": 12,
   "metadata": {},
   "outputs": [
    {
     "name": "stdout",
     "output_type": "stream",
     "text": [
      "Mean Absolute Error : 0.4868133592900334\n",
      "Mean Squared Error : 0.38874175322373666\n"
     ]
    }
   ],
   "source": [
    "# Calculate and print out the calculated errors\n",
    "print(\"Mean Absolute Error : \" + str(mean_absolute_error(predictions, y)))\n",
    "print(\"Mean Squared Error : \" + str(mean_squared_error(predictions, y)))"
   ]
  },
  {
   "cell_type": "code",
   "execution_count": 16,
   "metadata": {},
   "outputs": [],
   "source": [
    "# Create pipeline for reusablility purposes\n",
    "from sklearn.ensemble import RandomForestRegressor\n",
    "from sklearn.pipeline import make_pipeline\n",
    "from sklearn.preprocessing import Imputer\n",
    "\n",
    "my_pipeline = make_pipeline(Imputer(), XGBRegressor())"
   ]
  },
  {
   "cell_type": "code",
   "execution_count": 17,
   "metadata": {},
   "outputs": [],
   "source": [
    "# Fit pipeline\n",
    "my_pipeline.fit(X, y)\n",
    "predictions = my_pipeline.predict(X)"
   ]
  },
  {
   "cell_type": "code",
   "execution_count": 13,
   "metadata": {},
   "outputs": [
    {
     "name": "stdout",
     "output_type": "stream",
     "text": [
      "[0.32038835 0.24433658 0.24919094 0.18608414]\n"
     ]
    }
   ],
   "source": [
    "# Check what significance each feature has on the model\n",
    "print(model.feature_importances_)"
   ]
  },
  {
   "cell_type": "code",
   "execution_count": 26,
   "metadata": {},
   "outputs": [],
   "source": [
    "# Import more insight tools from sklearn\n",
    "from sklearn.ensemble.partial_dependence import partial_dependence, plot_partial_dependence\n",
    "from sklearn.ensemble import GradientBoostingRegressor "
   ]
  },
  {
   "cell_type": "code",
   "execution_count": 27,
   "metadata": {},
   "outputs": [
    {
     "data": {
      "text/plain": [
       "GradientBoostingRegressor(alpha=0.9, criterion='friedman_mse', init=None,\n",
       "             learning_rate=0.1, loss='ls', max_depth=3, max_features=None,\n",
       "             max_leaf_nodes=None, min_impurity_decrease=0.0,\n",
       "             min_impurity_split=None, min_samples_leaf=1,\n",
       "             min_samples_split=2, min_weight_fraction_leaf=0.0,\n",
       "             n_estimators=100, presort='auto', random_state=None,\n",
       "             subsample=1.0, verbose=0, warm_start=False)"
      ]
     },
     "execution_count": 27,
     "metadata": {},
     "output_type": "execute_result"
    }
   ],
   "source": [
    "# Trying sklearns gradient boosting model\n",
    "my_model = GradientBoostingRegressor()\n",
    "# fit the model as usual\n",
    "my_model.fit(X, y)"
   ]
  },
  {
   "cell_type": "code",
   "execution_count": 44,
   "metadata": {},
   "outputs": [
    {
     "data": {
      "image/png": "[encoded data removed]",
      "text/plain": [
       "<Figure size 432x288 with 4 Axes>"
      ]
     },
     "metadata": {},
     "output_type": "display_data"
    }
   ],
   "source": [
    "# Printing partial dependency plots from the sklearn version\n",
    "my_plots = plot_partial_dependence(my_model,       \n",
    "                                   features=[0,1,2,3], # column numbers of plots we want to show\n",
    "                                   X=X,            # raw predictors data.\n",
    "                                   feature_names=['job', 'sent', 'rsi', 'ma'], # labels on graphs\n",
    "                                   grid_resolution=10)"
   ]
  },
  {
   "cell_type": "markdown",
   "metadata": {},
   "source": [
    "### "
   ]
  }
 ],
 "metadata": {
  "kernelspec": {
   "display_name": "Python 3",
   "language": "python",
   "name": "python3"
  },
  "language_info": {
   "codemirror_mode": {
    "name": "ipython",
    "version": 3
   },
   "file_extension": ".py",
   "mimetype": "text/x-python",
   "name": "python",
   "nbconvert_exporter": "python",
   "pygments_lexer": "ipython3",
   "version": "3.6.5"
  }
 },
 "nbformat": 4,
 "nbformat_minor": 2
}
